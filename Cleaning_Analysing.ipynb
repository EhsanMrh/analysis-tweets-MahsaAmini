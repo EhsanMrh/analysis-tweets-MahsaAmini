{
 "cells": [
  {
   "cell_type": "code",
   "execution_count": 79,
   "metadata": {},
   "outputs": [],
   "source": [
    "import numpy as np\n",
    "import pandas as pd\n",
    "import matplotlib.pyplot as plt\n",
    "import datetime as dt\n",
    "plt.rcParams[\"figure.figsize\"] = (18,10)"
   ]
  },
  {
   "cell_type": "code",
   "execution_count": 80,
   "metadata": {},
   "outputs": [],
   "source": [
    "df=pd.read_csv('datasets/twittes_dataset.csv',parse_dates=['created_at','user/created_at'], dayfirst=True)"
   ]
  },
  {
   "cell_type": "code",
   "execution_count": 81,
   "metadata": {},
   "outputs": [
    {
     "data": {
      "text/plain": [
       "(16218, 21)"
      ]
     },
     "execution_count": 81,
     "metadata": {},
     "output_type": "execute_result"
    }
   ],
   "source": [
    "df.shape"
   ]
  },
  {
   "cell_type": "code",
   "execution_count": 82,
   "metadata": {},
   "outputs": [
    {
     "data": {
      "text/html": [
       "<div>\n",
       "<style scoped>\n",
       "    .dataframe tbody tr th:only-of-type {\n",
       "        vertical-align: middle;\n",
       "    }\n",
       "\n",
       "    .dataframe tbody tr th {\n",
       "        vertical-align: top;\n",
       "    }\n",
       "\n",
       "    .dataframe thead th {\n",
       "        text-align: right;\n",
       "    }\n",
       "</style>\n",
       "<table border=\"1\" class=\"dataframe\">\n",
       "  <thead>\n",
       "    <tr style=\"text-align: right;\">\n",
       "      <th></th>\n",
       "      <th>created_at</th>\n",
       "      <th>favorite_count</th>\n",
       "      <th>full_text</th>\n",
       "      <th>hashtags/0</th>\n",
       "      <th>hashtags/1</th>\n",
       "      <th>hashtags/2</th>\n",
       "      <th>hashtags/3</th>\n",
       "      <th>id</th>\n",
       "      <th>reply_count</th>\n",
       "      <th>tweet_type</th>\n",
       "      <th>...</th>\n",
       "      <th>lang</th>\n",
       "      <th>url</th>\n",
       "      <th>user/created_at</th>\n",
       "      <th>user/description</th>\n",
       "      <th>user/favourites_count</th>\n",
       "      <th>user_followers_count</th>\n",
       "      <th>user_id</th>\n",
       "      <th>user/listed_count</th>\n",
       "      <th>user\\name</th>\n",
       "      <th>user_verified</th>\n",
       "    </tr>\n",
       "  </thead>\n",
       "  <tbody>\n",
       "    <tr>\n",
       "      <th>13499</th>\n",
       "      <td>9/26/2022 18:40</td>\n",
       "      <td>0</td>\n",
       "      <td>NaN</td>\n",
       "      <td>NaN</td>\n",
       "      <td>NaN</td>\n",
       "      <td>NaN</td>\n",
       "      <td>NaN</td>\n",
       "      <td>1.57E+18</td>\n",
       "      <td>NaN</td>\n",
       "      <td>retweet</td>\n",
       "      <td>...</td>\n",
       "      <td>fa</td>\n",
       "      <td>https://twitter.com/LabeGur/statuses/157452934...</td>\n",
       "      <td>2/4/2022 3:46</td>\n",
       "      <td>NaN</td>\n",
       "      <td>NaN</td>\n",
       "      <td>195</td>\n",
       "      <td>1.49E+18</td>\n",
       "      <td>NaN</td>\n",
       "      <td>LabeGur</td>\n",
       "      <td>NaN</td>\n",
       "    </tr>\n",
       "    <tr>\n",
       "      <th>3071</th>\n",
       "      <td>9/20/2022 19:51</td>\n",
       "      <td>0</td>\n",
       "      <td>NaN</td>\n",
       "      <td>NaN</td>\n",
       "      <td>NaN</td>\n",
       "      <td>NaN</td>\n",
       "      <td>NaN</td>\n",
       "      <td>1.57E+18</td>\n",
       "      <td>NaN</td>\n",
       "      <td>reply</td>\n",
       "      <td>...</td>\n",
       "      <td>fa</td>\n",
       "      <td>https://twitter.com/GAZISME7/statuses/15723730...</td>\n",
       "      <td>7/27/2020 10:02</td>\n",
       "      <td>NaN</td>\n",
       "      <td>NaN</td>\n",
       "      <td>274</td>\n",
       "      <td>1.29E+18</td>\n",
       "      <td>NaN</td>\n",
       "      <td>GAZISME7</td>\n",
       "      <td>NaN</td>\n",
       "    </tr>\n",
       "    <tr>\n",
       "      <th>694</th>\n",
       "      <td>9/19/2022 19:58</td>\n",
       "      <td>0</td>\n",
       "      <td>NaN</td>\n",
       "      <td>NaN</td>\n",
       "      <td>NaN</td>\n",
       "      <td>NaN</td>\n",
       "      <td>NaN</td>\n",
       "      <td>1.57E+18</td>\n",
       "      <td>NaN</td>\n",
       "      <td>reply</td>\n",
       "      <td>...</td>\n",
       "      <td>fa</td>\n",
       "      <td>https://twitter.com/kaameliiia/statuses/157201...</td>\n",
       "      <td>9/1/2022 6:01</td>\n",
       "      <td>NaN</td>\n",
       "      <td>NaN</td>\n",
       "      <td>232</td>\n",
       "      <td>1.57E+18</td>\n",
       "      <td>NaN</td>\n",
       "      <td>kaameliiia</td>\n",
       "      <td>NaN</td>\n",
       "    </tr>\n",
       "  </tbody>\n",
       "</table>\n",
       "<p>3 rows × 21 columns</p>\n",
       "</div>"
      ],
      "text/plain": [
       "            created_at favorite_count full_text hashtags/0 hashtags/1  \\\n",
       "13499  9/26/2022 18:40              0       NaN        NaN        NaN   \n",
       "3071   9/20/2022 19:51              0       NaN        NaN        NaN   \n",
       "694    9/19/2022 19:58              0       NaN        NaN        NaN   \n",
       "\n",
       "      hashtags/2 hashtags/3        id reply_count tweet_type  ...  lang  \\\n",
       "13499        NaN        NaN  1.57E+18         NaN    retweet  ...    fa   \n",
       "3071         NaN        NaN  1.57E+18         NaN      reply  ...    fa   \n",
       "694          NaN        NaN  1.57E+18         NaN      reply  ...    fa   \n",
       "\n",
       "                                                     url  user/created_at  \\\n",
       "13499  https://twitter.com/LabeGur/statuses/157452934...    2/4/2022 3:46   \n",
       "3071   https://twitter.com/GAZISME7/statuses/15723730...  7/27/2020 10:02   \n",
       "694    https://twitter.com/kaameliiia/statuses/157201...    9/1/2022 6:01   \n",
       "\n",
       "      user/description user/favourites_count user_followers_count   user_id  \\\n",
       "13499              NaN                   NaN                  195  1.49E+18   \n",
       "3071               NaN                   NaN                  274  1.29E+18   \n",
       "694                NaN                   NaN                  232  1.57E+18   \n",
       "\n",
       "      user/listed_count   user\\name user_verified  \n",
       "13499               NaN     LabeGur           NaN  \n",
       "3071                NaN    GAZISME7           NaN  \n",
       "694                 NaN  kaameliiia           NaN  \n",
       "\n",
       "[3 rows x 21 columns]"
      ]
     },
     "execution_count": 82,
     "metadata": {},
     "output_type": "execute_result"
    }
   ],
   "source": [
    "df.sample(3)"
   ]
  },
  {
   "cell_type": "code",
   "execution_count": 83,
   "metadata": {},
   "outputs": [],
   "source": [
    "df=df.drop(df.index[np.where(df['created_at']=='created_at')])"
   ]
  },
  {
   "cell_type": "code",
   "execution_count": 84,
   "metadata": {},
   "outputs": [
    {
     "data": {
      "text/plain": [
       "created_at                   0\n",
       "favorite_count               0\n",
       "full_text                15106\n",
       "hashtags/0               15139\n",
       "hashtags/1               15354\n",
       "hashtags/2               15682\n",
       "hashtags/3               16007\n",
       "id                           0\n",
       "reply_count              15106\n",
       "tweet_type                1108\n",
       "retweeted_user_id         1108\n",
       "lang                      1108\n",
       "url                          0\n",
       "user/created_at              0\n",
       "user/description         15369\n",
       "user/favourites_count    15156\n",
       "user_followers_count         0\n",
       "user_id                      0\n",
       "user/listed_count        15106\n",
       "user\\name                   10\n",
       "user_verified            15099\n",
       "dtype: int64"
      ]
     },
     "execution_count": 84,
     "metadata": {},
     "output_type": "execute_result"
    }
   ],
   "source": [
    "df.isnull().sum()"
   ]
  },
  {
   "cell_type": "markdown",
   "metadata": {},
   "source": [
    "### How many of user account is verified"
   ]
  },
  {
   "cell_type": "code",
   "execution_count": 85,
   "metadata": {},
   "outputs": [],
   "source": [
    "sorted_df_verifide_account=df.sort_values(['user_id','user_verified']).drop_duplicates('user_id',keep='last')"
   ]
  },
  {
   "cell_type": "code",
   "execution_count": 86,
   "metadata": {},
   "outputs": [
    {
     "data": {
      "text/plain": [
       "FALSE    115\n",
       "TRUE      43\n",
       "1          5\n",
       "Name: user_verified, dtype: int64"
      ]
     },
     "execution_count": 86,
     "metadata": {},
     "output_type": "execute_result"
    }
   ],
   "source": [
    "new_verifide_account=sorted_df_verifide_account.dropna(subset=['user_verified'])['user_verified']\n",
    "new_verifide_account.value_counts(dropna=False)"
   ]
  },
  {
   "cell_type": "code",
   "execution_count": 87,
   "metadata": {},
   "outputs": [
    {
     "data": {
      "text/plain": [
       "0    115\n",
       "1     48\n",
       "Name: user_verified, dtype: int64"
      ]
     },
     "execution_count": 87,
     "metadata": {},
     "output_type": "execute_result"
    }
   ],
   "source": [
    "new_verifide_account=new_verifide_account.replace(['FALSE','TRUE','1','user/verified'],[0,1,1,0])\n",
    "new_verifide_account=new_verifide_account.value_counts()\n",
    "new_verifide_account.to_csv(\"datasets/new_verifide_account.csv\", index=False)\n",
    "new_verifide_account"
   ]
  },
  {
   "cell_type": "code",
   "execution_count": 88,
   "metadata": {},
   "outputs": [
    {
     "data": {
      "text/plain": [
       "Text(0, 0.5, 'Count of users')"
      ]
     },
     "execution_count": 88,
     "metadata": {},
     "output_type": "execute_result"
    },
    {
     "data": {
      "image/png": "[encoded data removed]",
      "text/plain": [
       "<Figure size 1296x720 with 1 Axes>"
      ]
     },
     "metadata": {
      "needs_background": "light"
     },
     "output_type": "display_data"
    }
   ],
   "source": [
    "plt.bar(new_verifide_account.index,new_verifide_account.values)\n",
    "plt.title(\"Number of verified accounts vs. other\")\n",
    "plt.xlabel(\"Other / Verified\")\n",
    "plt.ylabel(\"Count of users\")"
   ]
  },
  {
   "cell_type": "markdown",
   "metadata": {},
   "source": [
    "## Find male or female"
   ]
  },
  {
   "cell_type": "code",
   "execution_count": 89,
   "metadata": {},
   "outputs": [],
   "source": [
    "from names_dataset import NameDataset, NameWrapper\n",
    "nd = NameDataset()"
   ]
  },
  {
   "cell_type": "code",
   "execution_count": 90,
   "metadata": {},
   "outputs": [
    {
     "name": "stdout",
     "output_type": "stream",
     "text": [
      "Female, United Kingdom\n"
     ]
    }
   ],
   "source": [
    "print(NameWrapper(nd.search('Sarah')).describe)"
   ]
  },
  {
   "cell_type": "code",
   "execution_count": 91,
   "metadata": {},
   "outputs": [],
   "source": [
    "def genderIdentifier(name):\n",
    "    m = 0\n",
    "    f = 0\n",
    "    if(isinstance(name, str)):\n",
    "        for i in range(1,len(name)+1):\n",
    "            for j in range(i+1,len(name)+1):\n",
    "                x = NameWrapper(nd.search(name[int(i):int(j)])).describe\n",
    "                gender=x.split(',')[0]\n",
    "\n",
    "                if gender == 'Female':\n",
    "                    f += 1\n",
    "                elif gender == 'Male':\n",
    "                    m += 1\n",
    "                else:\n",
    "                    continue\n",
    "        if m > f:\n",
    "            return 'Male'\n",
    "        elif f > m:\n",
    "            return 'Female'\n",
    "        else:\n",
    "            return np.NaN\n",
    "    else:\n",
    "        return np.NaN"
   ]
  },
  {
   "cell_type": "code",
   "execution_count": 92,
   "metadata": {},
   "outputs": [],
   "source": [
    "df['gender']=df['user\\\\name'].apply(lambda x: genderIdentifier(x))"
   ]
  },
  {
   "cell_type": "code",
   "execution_count": 93,
   "metadata": {},
   "outputs": [
    {
     "data": {
      "text/plain": [
       "array(['Female', 'Male', nan], dtype=object)"
      ]
     },
     "execution_count": 93,
     "metadata": {},
     "output_type": "execute_result"
    }
   ],
   "source": [
    "df['gender'].unique()"
   ]
  },
  {
   "cell_type": "code",
   "execution_count": 94,
   "metadata": {},
   "outputs": [
    {
     "data": {
      "text/plain": [
       "Index(['created_at', 'favorite_count', 'full_text', 'hashtags/0', 'hashtags/1',\n",
       "       'hashtags/2', 'hashtags/3', 'id', 'reply_count', 'tweet_type',\n",
       "       'retweeted_user_id', 'lang', 'url', 'user/created_at',\n",
       "       'user/description', 'user/favourites_count', 'user_followers_count',\n",
       "       'user_id', 'user/listed_count', 'user\\name', 'user_verified', 'gender'],\n",
       "      dtype='object')"
      ]
     },
     "execution_count": 94,
     "metadata": {},
     "output_type": "execute_result"
    }
   ],
   "source": [
    "df.columns"
   ]
  },
  {
   "cell_type": "code",
   "execution_count": 95,
   "metadata": {},
   "outputs": [
    {
     "data": {
      "text/html": [
       "<div>\n",
       "<style scoped>\n",
       "    .dataframe tbody tr th:only-of-type {\n",
       "        vertical-align: middle;\n",
       "    }\n",
       "\n",
       "    .dataframe tbody tr th {\n",
       "        vertical-align: top;\n",
       "    }\n",
       "\n",
       "    .dataframe thead th {\n",
       "        text-align: right;\n",
       "    }\n",
       "</style>\n",
       "<table border=\"1\" class=\"dataframe\">\n",
       "  <thead>\n",
       "    <tr style=\"text-align: right;\">\n",
       "      <th></th>\n",
       "      <th>created_at</th>\n",
       "      <th>user/created_at</th>\n",
       "    </tr>\n",
       "  </thead>\n",
       "  <tbody>\n",
       "    <tr>\n",
       "      <th>0</th>\n",
       "      <td>9/19/2022 19:59</td>\n",
       "      <td>4/3/2020 9:34</td>\n",
       "    </tr>\n",
       "    <tr>\n",
       "      <th>1</th>\n",
       "      <td>9/19/2022 19:59</td>\n",
       "      <td>12/30/2016 17:43</td>\n",
       "    </tr>\n",
       "    <tr>\n",
       "      <th>2</th>\n",
       "      <td>9/19/2022 19:59</td>\n",
       "      <td>9/18/2022 16:12</td>\n",
       "    </tr>\n",
       "    <tr>\n",
       "      <th>3</th>\n",
       "      <td>9/19/2022 19:59</td>\n",
       "      <td>7/10/2022 16:54</td>\n",
       "    </tr>\n",
       "    <tr>\n",
       "      <th>4</th>\n",
       "      <td>9/19/2022 19:59</td>\n",
       "      <td>4/20/2013 22:52</td>\n",
       "    </tr>\n",
       "    <tr>\n",
       "      <th>...</th>\n",
       "      <td>...</td>\n",
       "      <td>...</td>\n",
       "    </tr>\n",
       "    <tr>\n",
       "      <th>16213</th>\n",
       "      <td>2022-09-23T23:59:49.000Z</td>\n",
       "      <td>2020-05-12T22:23:31.000Z</td>\n",
       "    </tr>\n",
       "    <tr>\n",
       "      <th>16214</th>\n",
       "      <td>2022-09-23T23:59:45.000Z</td>\n",
       "      <td>2013-02-18T09:32:07.000Z</td>\n",
       "    </tr>\n",
       "    <tr>\n",
       "      <th>16215</th>\n",
       "      <td>2022-09-23T23:59:46.000Z</td>\n",
       "      <td>2018-07-27T16:24:15.000Z</td>\n",
       "    </tr>\n",
       "    <tr>\n",
       "      <th>16216</th>\n",
       "      <td>2022-09-23T23:59:45.000Z</td>\n",
       "      <td>2020-04-03T19:47:30.000Z</td>\n",
       "    </tr>\n",
       "    <tr>\n",
       "      <th>16217</th>\n",
       "      <td>2022-09-23T23:59:47.000Z</td>\n",
       "      <td>2014-05-17T12:05:37.000Z</td>\n",
       "    </tr>\n",
       "  </tbody>\n",
       "</table>\n",
       "<p>16214 rows × 2 columns</p>\n",
       "</div>"
      ],
      "text/plain": [
       "                     created_at           user/created_at\n",
       "0               9/19/2022 19:59             4/3/2020 9:34\n",
       "1               9/19/2022 19:59          12/30/2016 17:43\n",
       "2               9/19/2022 19:59           9/18/2022 16:12\n",
       "3               9/19/2022 19:59           7/10/2022 16:54\n",
       "4               9/19/2022 19:59           4/20/2013 22:52\n",
       "...                         ...                       ...\n",
       "16213  2022-09-23T23:59:49.000Z  2020-05-12T22:23:31.000Z\n",
       "16214  2022-09-23T23:59:45.000Z  2013-02-18T09:32:07.000Z\n",
       "16215  2022-09-23T23:59:46.000Z  2018-07-27T16:24:15.000Z\n",
       "16216  2022-09-23T23:59:45.000Z  2020-04-03T19:47:30.000Z\n",
       "16217  2022-09-23T23:59:47.000Z  2014-05-17T12:05:37.000Z\n",
       "\n",
       "[16214 rows x 2 columns]"
      ]
     },
     "execution_count": 95,
     "metadata": {},
     "output_type": "execute_result"
    }
   ],
   "source": [
    "df[['created_at','user/created_at']]"
   ]
  },
  {
   "cell_type": "code",
   "execution_count": 96,
   "metadata": {},
   "outputs": [
    {
     "data": {
      "text/plain": [
       "datetime.datetime(2022, 9, 23, 23, 59, 47)"
      ]
     },
     "execution_count": 96,
     "metadata": {},
     "output_type": "execute_result"
    }
   ],
   "source": [
    "dt.datetime.strptime('2022-09-23T23:59:47.000Z', \"%Y-%m-%dT%H:%M:%S.%fZ\")"
   ]
  },
  {
   "cell_type": "code",
   "execution_count": 97,
   "metadata": {},
   "outputs": [],
   "source": [
    "def f(x):\n",
    "    indx=np.where(df['created_at']==x)[0][0]\n",
    "    if (indx>=15106):\n",
    "      return dt.datetime.strptime(x, \"%Y-%m-%dT%H:%M:%S.%fZ\")\n",
    "    if(indx<15106):\n",
    "       return dt.datetime.strptime(x, '%m/%d/%Y %H:%M') "
   ]
  },
  {
   "cell_type": "code",
   "execution_count": 98,
   "metadata": {},
   "outputs": [],
   "source": [
    "def f2(x):\n",
    "    indx=np.where(df['user/created_at']==x)[0][0]\n",
    "    if (indx>=15106):\n",
    "      return dt.datetime.strptime(x, \"%Y-%m-%dT%H:%M:%S.%fZ\")\n",
    "    if(indx<15106):\n",
    "       return dt.datetime.strptime(x, '%m/%d/%Y %H:%M') \n",
    "    # return dt.datetime(pd.Timestamp(x).date().year, pd.Timestamp(x).date().month, 1)"
   ]
  },
  {
   "cell_type": "code",
   "execution_count": 99,
   "metadata": {},
   "outputs": [],
   "source": [
    "df['created_at']=df['created_at'].apply(lambda x:f(x))\n",
    "df['user/created_at']=df['user/created_at'].apply(lambda x:f2(x))"
   ]
  },
  {
   "cell_type": "code",
   "execution_count": 100,
   "metadata": {},
   "outputs": [],
   "source": [
    "df.to_csv(\"datasets/clean_dataset.csv\", index=False)"
   ]
  },
  {
   "cell_type": "code",
   "execution_count": 101,
   "metadata": {},
   "outputs": [],
   "source": [
    "mask=(df['user/created_at']>'2022-07-1') & (df['user/created_at']<'2022-10-1')"
   ]
  },
  {
   "cell_type": "code",
   "execution_count": 102,
   "metadata": {},
   "outputs": [],
   "source": [
    "df_=df.loc[mask]"
   ]
  },
  {
   "cell_type": "code",
   "execution_count": 103,
   "metadata": {},
   "outputs": [],
   "source": [
    "df_.to_csv(\"datasets/mask.csv\", index=False)"
   ]
  },
  {
   "cell_type": "code",
   "execution_count": 104,
   "metadata": {},
   "outputs": [
    {
     "data": {
      "text/plain": [
       "17.3"
      ]
     },
     "execution_count": 104,
     "metadata": {},
     "output_type": "execute_result"
    }
   ],
   "source": [
    "percentage_signup=round((df_.shape[0])/(df.shape[0])*100 ,2)\n",
    "percentage_signup"
   ]
  },
  {
   "cell_type": "markdown",
   "metadata": {},
   "source": [
    "### accourding to the above result 17.3% of people sign up to twiter after increase amount of tweets with Mahsa Amini hashtag "
   ]
  },
  {
   "cell_type": "code",
   "execution_count": 105,
   "metadata": {},
   "outputs": [],
   "source": [
    "sorted_df=df.sort_values(['user_id','gender']).drop_duplicates('user_id',keep='last')\n",
    "sorted=sorted_df['gender'].dropna()\n",
    "# sorted=sorted[(sorted=='male')|(sorted=='female')]\n",
    "gender_user=sorted.value_counts()"
   ]
  },
  {
   "cell_type": "code",
   "execution_count": 106,
   "metadata": {},
   "outputs": [],
   "source": [
    "sorted.to_csv(\"datasets/gender.csv\", index=False)"
   ]
  },
  {
   "cell_type": "code",
   "execution_count": 107,
   "metadata": {},
   "outputs": [
    {
     "data": {
      "text/plain": [
       "Text(0, 0.5, 'Count of users')"
      ]
     },
     "execution_count": 107,
     "metadata": {},
     "output_type": "execute_result"
    },
    {
     "data": {
      "image/png": "[encoded data removed]",
      "text/plain": [
       "<Figure size 1296x720 with 1 Axes>"
      ]
     },
     "metadata": {
      "needs_background": "light"
     },
     "output_type": "display_data"
    }
   ],
   "source": [
    "plt.bar(gender_user.index,gender_user.values)\n",
    "plt.title(\"Number of Male and Female users\")\n",
    "plt.xlabel(\"Gender\")\n",
    "plt.ylabel(\"Count of users\")"
   ]
  },
  {
   "cell_type": "code",
   "execution_count": 108,
   "metadata": {},
   "outputs": [],
   "source": [
    "def find_jurnalist(x):\n",
    "    if (type(x) is str ):\n",
    "        arr=x.split()\n",
    "        for i in arr:\n",
    "            if(i=='Journalist'):\n",
    "               return 'Journalist'\n",
    "            else:\n",
    "                return x   \n",
    "    else:\n",
    "        return x           \n",
    "\n",
    "df['user_journalist']=df['user/description'].apply(lambda x: find_jurnalist(x))"
   ]
  },
  {
   "cell_type": "code",
   "execution_count": 109,
   "metadata": {},
   "outputs": [
    {
     "data": {
      "text/plain": [
       "0                                                      NaN\n",
       "1                                                      NaN\n",
       "2                                                      NaN\n",
       "3                                                      NaN\n",
       "4                                                      NaN\n",
       "                               ...                        \n",
       "16213                                                  NaN\n",
       "16214                              You just get Rock to me\n",
       "16215    ‏باز هم می کشند اگر ما یکی نشویم و شرایط را ‎#...\n",
       "16216                                     زن، زندگی، آزادی\n",
       "16217                                                  NaN\n",
       "Name: user_journalist, Length: 16214, dtype: object"
      ]
     },
     "execution_count": 109,
     "metadata": {},
     "output_type": "execute_result"
    }
   ],
   "source": [
    "df['user_journalist']"
   ]
  },
  {
   "cell_type": "code",
   "execution_count": 110,
   "metadata": {},
   "outputs": [],
   "source": [
    "def get_month(x):\n",
    "    return dt.datetime(x.year, x.month, x.day) "
   ]
  },
  {
   "cell_type": "code",
   "execution_count": 111,
   "metadata": {},
   "outputs": [],
   "source": [
    "df['new_created_at']=df['created_at'].apply(get_month)"
   ]
  },
  {
   "cell_type": "code",
   "execution_count": 112,
   "metadata": {},
   "outputs": [],
   "source": [
    "sorted_bytime_df=df.sort_values(['new_created_at'])"
   ]
  },
  {
   "cell_type": "code",
   "execution_count": 113,
   "metadata": {},
   "outputs": [
    {
     "data": {
      "text/plain": [
       "['2022-09-19', '2022-09-29', '2022-10-08', '2022-10-18', '2022-10-27']"
      ]
     },
     "execution_count": 113,
     "metadata": {},
     "output_type": "execute_result"
    }
   ],
   "source": [
    "test_date1 = df['created_at'].min()\n",
    "test_date2 = df['created_at'].max()\n",
    "N = 4\n",
    "temp = []\n",
    "diff = ( test_date2 - test_date1) // N\n",
    "for idx in range(0, N+1):\n",
    "    \n",
    "    temp.append((test_date1 + idx * diff))\n",
    "\n",
    "res=[]\n",
    "for sub in temp:\n",
    "    res.append(sub.strftime(\"%Y-%m-%d\"))  \n",
    "res     "
   ]
  },
  {
   "cell_type": "code",
   "execution_count": 114,
   "metadata": {},
   "outputs": [],
   "source": [
    "df_for_time={'time':[],\n",
    "'Journalist':[],\n",
    "'other':[]\n",
    "}"
   ]
  },
  {
   "cell_type": "code",
   "execution_count": 115,
   "metadata": {},
   "outputs": [],
   "source": [
    "for idx, x in enumerate(res):   \n",
    "    if((idx+1)<len(res)):\n",
    "        mask=(df['created_at']>res[idx]) & (df['created_at']<res[idx+1])\n",
    "        df_for_time['time'].append(f'{res[idx]} to {res[idx+1]}')\n",
    "        dfm=df.loc[mask]\n",
    "        number_of_journalists=dfm[dfm['user_journalist']=='Journalist'].shape[0]\n",
    "        number_of_other=dfm[dfm['user_journalist']!='Journalist'].shape[0]\n",
    "        df_for_time['Journalist'].append(number_of_journalists)\n",
    "        df_for_time['other'].append(number_of_other)\n"
   ]
  },
  {
   "cell_type": "code",
   "execution_count": 116,
   "metadata": {},
   "outputs": [
    {
     "data": {
      "text/html": [
       "<div>\n",
       "<style scoped>\n",
       "    .dataframe tbody tr th:only-of-type {\n",
       "        vertical-align: middle;\n",
       "    }\n",
       "\n",
       "    .dataframe tbody tr th {\n",
       "        vertical-align: top;\n",
       "    }\n",
       "\n",
       "    .dataframe thead th {\n",
       "        text-align: right;\n",
       "    }\n",
       "</style>\n",
       "<table border=\"1\" class=\"dataframe\">\n",
       "  <thead>\n",
       "    <tr style=\"text-align: right;\">\n",
       "      <th></th>\n",
       "      <th>time</th>\n",
       "      <th>Journalist</th>\n",
       "      <th>other</th>\n",
       "    </tr>\n",
       "  </thead>\n",
       "  <tbody>\n",
       "    <tr>\n",
       "      <th>0</th>\n",
       "      <td>2022-09-19 to 2022-09-29</td>\n",
       "      <td>0</td>\n",
       "      <td>15256</td>\n",
       "    </tr>\n",
       "    <tr>\n",
       "      <th>1</th>\n",
       "      <td>2022-09-29 to 2022-10-08</td>\n",
       "      <td>0</td>\n",
       "      <td>51</td>\n",
       "    </tr>\n",
       "    <tr>\n",
       "      <th>2</th>\n",
       "      <td>2022-10-08 to 2022-10-18</td>\n",
       "      <td>0</td>\n",
       "      <td>0</td>\n",
       "    </tr>\n",
       "    <tr>\n",
       "      <th>3</th>\n",
       "      <td>2022-10-18 to 2022-10-27</td>\n",
       "      <td>17</td>\n",
       "      <td>880</td>\n",
       "    </tr>\n",
       "  </tbody>\n",
       "</table>\n",
       "</div>"
      ],
      "text/plain": [
       "                       time  Journalist  other\n",
       "0  2022-09-19 to 2022-09-29           0  15256\n",
       "1  2022-09-29 to 2022-10-08           0     51\n",
       "2  2022-10-08 to 2022-10-18           0      0\n",
       "3  2022-10-18 to 2022-10-27          17    880"
      ]
     },
     "execution_count": 116,
     "metadata": {},
     "output_type": "execute_result"
    }
   ],
   "source": [
    "dfn=pd.DataFrame(data=df_for_time)\n",
    "dfn.to_csv(\"dashboard/data/journalist.csv\", index=False)\n",
    "dfn"
   ]
  },
  {
   "cell_type": "code",
   "execution_count": 117,
   "metadata": {},
   "outputs": [
    {
     "data": {
      "text/plain": [
       "Text(0.5, 1.0, 'Number of journalist vs. other')"
      ]
     },
     "execution_count": 117,
     "metadata": {},
     "output_type": "execute_result"
    },
    {
     "data": {
      "image/png": "[encoded data removed]",
      "text/plain": [
       "<Figure size 1296x720 with 1 Axes>"
      ]
     },
     "metadata": {},
     "output_type": "display_data"
    }
   ],
   "source": [
    "plt.pie([dfn['Journalist'].sum(), dfn['other'].sum()], \n",
    "        labels=['Journalist', 'other'],\n",
    "        explode = [0, 0.2],\n",
    "        autopct='%1.1f%%')\n",
    "\n",
    "plt.legend()\n",
    "plt.title(\"Number of journalist vs. other\")"
   ]
  },
  {
   "cell_type": "code",
   "execution_count": 118,
   "metadata": {},
   "outputs": [
    {
     "data": {
      "text/plain": [
       "Text(0, 0.5, 'Count')"
      ]
     },
     "execution_count": 118,
     "metadata": {},
     "output_type": "execute_result"
    },
    {
     "data": {
      "image/png": "[encoded data removed]",
      "text/plain": [
       "<Figure size 1296x720 with 1 Axes>"
      ]
     },
     "metadata": {
      "needs_background": "light"
     },
     "output_type": "display_data"
    }
   ],
   "source": [
    "dfn.plot(x=\"time\", y=\"other\", kind=\"line\")\n",
    "plt.title(\"Number of twittes by ordinary users\")\n",
    "plt.ylabel(\"Count\")"
   ]
  },
  {
   "cell_type": "code",
   "execution_count": 119,
   "metadata": {},
   "outputs": [
    {
     "data": {
      "text/plain": [
       "Text(0, 0.5, 'Count')"
      ]
     },
     "execution_count": 119,
     "metadata": {},
     "output_type": "execute_result"
    },
    {
     "data": {
      "image/png": "[encoded data removed]",
      "text/plain": [
       "<Figure size 1296x720 with 1 Axes>"
      ]
     },
     "metadata": {
      "needs_background": "light"
     },
     "output_type": "display_data"
    }
   ],
   "source": [
    "dfn.plot(x=\"time\", y=\"Journalist\", kind=\"line\",color=\"maroon\")\n",
    "plt.title(\"Number of twittes by juornalists\")\n",
    "plt.ylabel(\"Count\")"
   ]
  },
  {
   "cell_type": "code",
   "execution_count": 120,
   "metadata": {},
   "outputs": [],
   "source": [
    "lang=df['lang'].dropna()\n",
    "lang_=lang.value_counts()"
   ]
  },
  {
   "cell_type": "code",
   "execution_count": 121,
   "metadata": {},
   "outputs": [
    {
     "data": {
      "text/plain": [
       "Text(0, 0.5, 'Count')"
      ]
     },
     "execution_count": 121,
     "metadata": {},
     "output_type": "execute_result"
    },
    {
     "data": {
      "image/png": "[encoded data removed]",
      "text/plain": [
       "<Figure size 1296x720 with 1 Axes>"
      ]
     },
     "metadata": {
      "needs_background": "light"
     },
     "output_type": "display_data"
    }
   ],
   "source": [
    "plt.bar(lang_.index,lang_.values,width = 1.5)\n",
    "plt.title(\"Number of twitte were written by each langueages\")\n",
    "plt.xlabel(\"Langueage\")\n",
    "plt.ylabel(\"Count\")"
   ]
  }
 ],
 "metadata": {
  "kernelspec": {
   "display_name": "Python 3.9.12 ('base')",
   "language": "python",
   "name": "python3"
  },
  "language_info": {
   "codemirror_mode": {
    "name": "ipython",
    "version": 3
   },
   "file_extension": ".py",
   "mimetype": "text/x-python",
   "name": "python",
   "nbconvert_exporter": "python",
   "pygments_lexer": "ipython3",
   "version": "3.9.12"
  },
  "orig_nbformat": 4,
  "vscode": {
   "interpreter": {
    "hash": "341e0318612e13d2caac249865d6880347062171b89016abd70f7ef667022a97"
   }
  }
 },
 "nbformat": 4,
 "nbformat_minor": 2
}
