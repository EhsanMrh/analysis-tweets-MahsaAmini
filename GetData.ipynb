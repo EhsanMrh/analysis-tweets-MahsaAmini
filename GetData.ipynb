{
 "cells": [
  {
   "cell_type": "code",
   "execution_count": 53,
   "metadata": {},
   "outputs": [],
   "source": [
    "import requests\n",
    "import pandas as pd"
   ]
  },
  {
   "cell_type": "code",
   "execution_count": 54,
   "metadata": {},
   "outputs": [],
   "source": [
    "bearer_token = \"AAAAAAAAAAAAAAAAAAAAAIdgiAEAAAAAHKWt9xmVxV9UFNfFbiwIqAJW8AE%3DlwYvJJfMrWjOsUX9iymnjOFUge9SfVuOPMbGquFqK159OcE6RF\""
   ]
  },
  {
   "cell_type": "code",
   "execution_count": 55,
   "metadata": {},
   "outputs": [],
   "source": [
    "search_url = \"https://api.twitter.com/2/tweets/search/recent?\"\n",
    "query_params = {'query': '#MahsaAmini','tweet.fields': 'author_id'}"
   ]
  },
  {
   "cell_type": "code",
   "execution_count": 56,
   "metadata": {},
   "outputs": [],
   "source": [
    "def bearer_oauth(r):\n",
    "    r.headers[\"Authorization\"] = f\"Bearer {bearer_token}\"\n",
    "    r.headers[\"User-Agent\"] = \"v2RecentSearchPython\"\n",
    "    return r"
   ]
  },
  {
   "cell_type": "code",
   "execution_count": 57,
   "metadata": {},
   "outputs": [],
   "source": [
    "headers = {\"Authorization\": \"Bearer {}\".format(bearer_token)}"
   ]
  },
  {
   "cell_type": "code",
   "execution_count": 58,
   "metadata": {},
   "outputs": [],
   "source": [
    "def connect_to_endpoint(url, params):\n",
    "    response = requests.get(url, auth=bearer_oauth, params=params)\n",
    "    print(response.status_code)\n",
    "    if response.status_code != 200:\n",
    "        raise Exception(response.status_code, response.text)\n",
    "    return response.json()"
   ]
  },
  {
   "cell_type": "code",
   "execution_count": 59,
   "metadata": {},
   "outputs": [
    {
     "name": "stdout",
     "output_type": "stream",
     "text": [
      "200\n"
     ]
    }
   ],
   "source": [
    "json_response = connect_to_endpoint(search_url, query_params)"
   ]
  },
  {
   "cell_type": "code",
   "execution_count": 60,
   "metadata": {},
   "outputs": [
    {
     "data": {
      "text/plain": [
       "[{'text': \"@elonmusk It's cause of #IranRevolution ! try banning @khamenei_ir and other dependent accounts and your servers won't melt down, guaranteed! \\n#MahsaAmini #WomanLifeFreedom\",\n",
       "  'author_id': '1575184163271049219',\n",
       "  'id': '1589973345680121857',\n",
       "  'edit_history_tweet_ids': ['1589973345680121857']},\n",
       " {'text': 'RT @FattahiFarzad: مریوان،اکنون\\n\\nمردم بر سر خاک #نسرین_قادری شعار می\\u200cدهند: «شه\\u200cهید نامره»\\n(شهید نمی\\u200cمیرد) \\n\\nیک کوادکوپتر در حال تصویربرداری…',\n",
       "  'author_id': '1704582566',\n",
       "  'id': '1589973344782536707',\n",
       "  'edit_history_tweet_ids': ['1589973344782536707']},\n",
       " {'text': 'RT @1500tasvir_en: A woman in Marivan, Kurdistan cutting her hair to the crowd’s chants of “Freedom” over the burial place of Nasrin Ghader…',\n",
       "  'author_id': '1217188387842613248',\n",
       "  'id': '1589973344191139840',\n",
       "  'edit_history_tweet_ids': ['1589973344191139840']},\n",
       " {'text': 'RT @Omid_M: “Death to the entire system,” students chant at the University of Science and Culture in Tehran. These students risk, but they…',\n",
       "  'author_id': '1574537584042299397',\n",
       "  'id': '1589973342836387840',\n",
       "  'edit_history_tweet_ids': ['1589973342836387840']},\n",
       " {'text': '@thecIownfandom واییی باورم نمیشههه تو خیلی وایب f ها میدی (احساساتی ها چون خیلی صافتییی) و نه infj\\n#مهسا_امینی\\n#MahsaAmini',\n",
       "  'author_id': '1446245529701191695',\n",
       "  'id': '1589973342614093824',\n",
       "  'edit_history_tweet_ids': ['1589973342614093824']},\n",
       " {'text': '@kimsuam هیفده\\n #مهسا_امینی\\n#MahsaAmini\\n#اعتصابات_سراسری',\n",
       "  'author_id': '1574108679926054912',\n",
       "  'id': '1589973342047834113',\n",
       "  'edit_history_tweet_ids': ['1589973342047834113']},\n",
       " {'text': \"RT @Mintvelvet2: @__Injaneb96 I'm a real person,not a robot and fakelike #NIAC\\n#NoNIAC\\n#MahsaAmini https://t.co/z2qH5GkvUk\",\n",
       "  'author_id': '1515452320871600138',\n",
       "  'id': '1589973342043668480',\n",
       "  'edit_history_tweet_ids': ['1589973342043668480']},\n",
       " {'text': 'RT @NHyar0: #اعتصابات_سراسری \\n\\n#اعتصابات_سراسری \\n\\n#اعتصابات_سراسری \\n\\n#مهسا_امینی \\n#MahsaAmini\\n\\n🕊️🕊️🕊️\\n\\nاتحاد\\nاتحاد\\nاتحاد\\n\\n🕊️🕊️🕊️\\n\\nDon’t Giv…',\n",
       "  'author_id': '1542829763798368256',\n",
       "  'id': '1589973341129297921',\n",
       "  'edit_history_tweet_ids': ['1589973341129297921']},\n",
       " {'text': 'RT @sinavaliollah: من حامی هیچ حزب و گروه و دسته و دست خری نیستم جز مردم وطنم تا لحظه\\u200cای که نفس دارم. زور الکی هم برای چسبوندن من به هر عنی…',\n",
       "  'author_id': '1579013706020626432',\n",
       "  'id': '1589973339711623168',\n",
       "  'edit_history_tweet_ids': ['1589973339711623168']},\n",
       " {'text': '@kimsuam #اعتصابات_سراسری \\n#مهسا_امینی   \\n#MahsaAmini\\u200c \\nچهار',\n",
       "  'author_id': '1328006037262262272',\n",
       "  'id': '1589973338176180224',\n",
       "  'edit_history_tweet_ids': ['1589973338176180224']}]"
      ]
     },
     "execution_count": 60,
     "metadata": {},
     "output_type": "execute_result"
    }
   ],
   "source": [
    "json_response['data']"
   ]
  },
  {
   "cell_type": "code",
   "execution_count": 61,
   "metadata": {},
   "outputs": [],
   "source": [
    "df = pd.json_normalize(json_response['data'])\n",
    "df.to_excel(\"datasets/twitter_test.xlsx\")"
   ]
  },
  {
   "cell_type": "markdown",
   "metadata": {},
   "source": [
    "# Search User"
   ]
  },
  {
   "cell_type": "code",
   "execution_count": 62,
   "metadata": {},
   "outputs": [],
   "source": [
    "user_id = 1264611341563645952\n",
    "user_url = f\"https://api.twitter.com/2/users/{user_id}\"\n",
    "user_query_params = {'user.fields': 'created_at,location,description,verified'}"
   ]
  },
  {
   "cell_type": "code",
   "execution_count": 63,
   "metadata": {},
   "outputs": [
    {
     "name": "stdout",
     "output_type": "stream",
     "text": [
      "200\n"
     ]
    }
   ],
   "source": [
    "json_response = connect_to_endpoint(user_url, user_query_params)"
   ]
  },
  {
   "cell_type": "code",
   "execution_count": 64,
   "metadata": {},
   "outputs": [
    {
     "data": {
      "text/plain": [
       "{'data': {'name': 'نیکولاس تسلا',\n",
       "  'verified': False,\n",
       "  'created_at': '2020-05-24T17:37:11.000Z',\n",
       "  'username': '5nYhBSYgj7qAfVd',\n",
       "  'id': '1264611341563645952',\n",
       "  'description': ''}}"
      ]
     },
     "execution_count": 64,
     "metadata": {},
     "output_type": "execute_result"
    }
   ],
   "source": [
    "json_response"
   ]
  }
 ],
 "metadata": {
  "kernelspec": {
   "display_name": "Python 3.9.12 ('base')",
   "language": "python",
   "name": "python3"
  },
  "language_info": {
   "codemirror_mode": {
    "name": "ipython",
    "version": 3
   },
   "file_extension": ".py",
   "mimetype": "text/x-python",
   "name": "python",
   "nbconvert_exporter": "python",
   "pygments_lexer": "ipython3",
   "version": "3.9.12"
  },
  "orig_nbformat": 4,
  "vscode": {
   "interpreter": {
    "hash": "341e0318612e13d2caac249865d6880347062171b89016abd70f7ef667022a97"
   }
  }
 },
 "nbformat": 4,
 "nbformat_minor": 2
}
